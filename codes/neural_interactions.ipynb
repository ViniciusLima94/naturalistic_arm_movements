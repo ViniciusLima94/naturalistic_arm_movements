{
 "cells": [
  {
   "cell_type": "code",
   "execution_count": 1,
   "metadata": {},
   "outputs": [],
   "source": [
    "import nixio\n",
    "import pandas as pd\n",
    "import neo\n",
    "import quantities as pq\n",
    "import matplotlib.pyplot as plt\n",
    "import numpy as np\n",
    "from scipy import signal\n",
    "import xarray as xr\n",
    "from frites.dataset import DatasetEphy\n",
    "from frites.workflow import WfMi\n",
    "import sklearn as sk\n",
    "from sklearn.metrics.pairwise import euclidean_distances"
   ]
  },
  {
   "cell_type": "code",
   "execution_count": 2,
   "metadata": {},
   "outputs": [],
   "source": [
    "px = pq.UnitQuantity('px', pq.dimensionless, symbol='px') \n",
    "fps = pq.UnitQuantity('fps', pq.Hz, symbol='fps')\n",
    "\n",
    "path_nix = '../data/nix_files/'\n",
    "filename = 'subj_01_day_3_r_epo.nix'\n",
    "with neo.io.NixIO(path_nix + filename, 'ro') as io:\n",
    "    nix_data = io.read_block()"
   ]
  },
  {
   "cell_type": "code",
   "execution_count": 3,
   "metadata": {},
   "outputs": [],
   "source": [
    "roi_names = pd.read_csv('../data/anat/aal_01_elecs2ROI.csv').columns\n",
    "centroids = pd.read_csv('../data/anat/aal_01_ROIcentroids_Lside.csv').values"
   ]
  },
  {
   "cell_type": "code",
   "execution_count": 4,
   "metadata": {},
   "outputs": [
    {
     "data": {
      "text/plain": [
       "dict_keys(['nix_name', 'time', 'event_timestamp', 'mvmt', 'vid_name', 'event_frame_idx', 'false_pos', 'patient_id', 'I_over_C_ratio', 'audio_ratio', 'reach_duration', 'reach_r', 'reach_a', 'onset_velocity', 'other_reach_overlap', 'bimanual', 'other_lead_lag'])"
      ]
     },
     "execution_count": 4,
     "metadata": {},
     "output_type": "execute_result"
    }
   ],
   "source": [
    "nix_data.segments[0].annotations.keys()"
   ]
  },
  {
   "cell_type": "code",
   "execution_count": 22,
   "metadata": {},
   "outputs": [],
   "source": []
  },
  {
   "cell_type": "code",
   "execution_count": 5,
   "metadata": {},
   "outputs": [
    {
     "data": {
      "text/plain": [
       "(156, 94, 5501)"
      ]
     },
     "execution_count": 5,
     "metadata": {},
     "output_type": "execute_result"
    }
   ],
   "source": [
    "n_trials = len(nix_data.segments)\n",
    "data = np.stack([nix_data.segments[i].analogsignals[0].magnitude for i in range(n_trials)])    # Epochs data\n",
    "angle = np.stack([nix_data.segments[i].annotations['reach_duration'] for i in range(n_trials)])       # Reach angle\n",
    "data = data.transpose(0,2,1)\n",
    "data.shape"
   ]
  },
  {
   "cell_type": "code",
   "execution_count": 6,
   "metadata": {},
   "outputs": [
    {
     "data": {
      "text/plain": [
       "(array([18., 33., 42., 29., 15.,  7.,  6.,  3.,  2.,  1.]),\n",
       " array([0.33333333, 0.64333333, 0.95333333, 1.26333333, 1.57333333,\n",
       "        1.88333333, 2.19333333, 2.50333333, 2.81333333, 3.12333333,\n",
       "        3.43333333]),\n",
       " <BarContainer object of 10 artists>)"
      ]
     },
     "execution_count": 6,
     "metadata": {},
     "output_type": "execute_result"
    },
    {
     "data": {
      "image/png": "[encoded data removed]",
      "text/plain": [
       "<Figure size 640x480 with 1 Axes>"
      ]
     },
     "metadata": {},
     "output_type": "display_data"
    }
   ],
   "source": [
    "plt.hist(angle / 30)"
   ]
  },
  {
   "cell_type": "code",
   "execution_count": 23,
   "metadata": {},
   "outputs": [],
   "source": []
  },
  {
   "cell_type": "code",
   "execution_count": 24,
   "metadata": {},
   "outputs": [
    {
     "data": {
      "text/plain": [
       "{'I_over_C_ratio': 0.0296679099,\n",
       " 'audio_ratio': 0.1739951808,\n",
       " 'reach_duration': 29,\n",
       " 'reach_r': 56.0681077424,\n",
       " 'reach_a': -152.3603329033,\n",
       " 'onset_velocity': 3.1337075799,\n",
       " 'bimanual': 0}"
      ]
     },
     "execution_count": 24,
     "metadata": {},
     "output_type": "execute_result"
    }
   ],
   "source": [
    "behavioral"
   ]
  },
  {
   "cell_type": "code",
   "execution_count": 8,
   "metadata": {},
   "outputs": [],
   "source": [
    "x = nix_data.segments[1].analogsignals[0].array_annotations['chanlocs_x']\n",
    "y = nix_data.segments[1].analogsignals[0].array_annotations['chanlocs_y']\n",
    "z = nix_data.segments[1].analogsignals[0].array_annotations['chanlocs_z']\n",
    "time = nix_data.segments[1].analogsignals[0].times - 5.5 * pq.s"
   ]
  },
  {
   "cell_type": "code",
   "execution_count": 9,
   "metadata": {},
   "outputs": [],
   "source": [
    "chanlocs = np.stack((x,y,z), axis=1)\n",
    "euc_dist = euclidean_distances(chanlocs, centroids)\n",
    "roi_names = roi_names[np.argmin(euc_dist, axis = 1)]"
   ]
  },
  {
   "cell_type": "code",
   "execution_count": 10,
   "metadata": {},
   "outputs": [],
   "source": [
    "data = xr.DataArray(data, dims=(\"trials\", \"roi\", \"times\"), coords={\"trials\": angle, \"times\": time, \"roi\": roi_names})\n",
    "data.attrs[\"chanlocs_x\"] = x\n",
    "data.attrs[\"chanlocs_y\"] = y\n",
    "data.attrs[\"chanlocs_z\"] = z"
   ]
  },
  {
   "cell_type": "code",
   "execution_count": 34,
   "metadata": {},
   "outputs": [],
   "source": [
    "bhv_names = ['bimanual', 'onset_velocity', 'reach_r', 'reach_a',  'I_over_C_ratio', 'audio_ratio', 'reach_duration']\n",
    "\n",
    "behavioral = np.zeros((data.sizes[\"trials\"], len(bhv_names)))\n",
    "\n",
    "for trial in range(data.sizes[\"trials\"]):\n",
    "    for key, item in nix_data.segments[trial].annotations.items():\n",
    "        pos = 0\n",
    "        if key in bhv_names:\n",
    "            behavioral[trial, pos] = item\n",
    "            pos = pos + 1"
   ]
  },
  {
   "cell_type": "code",
   "execution_count": 35,
   "metadata": {},
   "outputs": [
    {
     "data": {
      "text/plain": [
       "array([[1., 0., 0., 0., 0., 0., 0.],\n",
       "       [0., 0., 0., 0., 0., 0., 0.],\n",
       "       [0., 0., 0., 0., 0., 0., 0.],\n",
       "       [0., 0., 0., 0., 0., 0., 0.],\n",
       "       [1., 0., 0., 0., 0., 0., 0.],\n",
       "       [0., 0., 0., 0., 0., 0., 0.],\n",
       "       [0., 0., 0., 0., 0., 0., 0.],\n",
       "       [1., 0., 0., 0., 0., 0., 0.],\n",
       "       [1., 0., 0., 0., 0., 0., 0.],\n",
       "       [0., 0., 0., 0., 0., 0., 0.],\n",
       "       [1., 0., 0., 0., 0., 0., 0.],\n",
       "       [1., 0., 0., 0., 0., 0., 0.],\n",
       "       [1., 0., 0., 0., 0., 0., 0.],\n",
       "       [0., 0., 0., 0., 0., 0., 0.],\n",
       "       [1., 0., 0., 0., 0., 0., 0.],\n",
       "       [1., 0., 0., 0., 0., 0., 0.],\n",
       "       [1., 0., 0., 0., 0., 0., 0.],\n",
       "       [1., 0., 0., 0., 0., 0., 0.],\n",
       "       [0., 0., 0., 0., 0., 0., 0.],\n",
       "       [1., 0., 0., 0., 0., 0., 0.],\n",
       "       [0., 0., 0., 0., 0., 0., 0.],\n",
       "       [0., 0., 0., 0., 0., 0., 0.],\n",
       "       [0., 0., 0., 0., 0., 0., 0.],\n",
       "       [0., 0., 0., 0., 0., 0., 0.],\n",
       "       [1., 0., 0., 0., 0., 0., 0.],\n",
       "       [1., 0., 0., 0., 0., 0., 0.],\n",
       "       [1., 0., 0., 0., 0., 0., 0.],\n",
       "       [1., 0., 0., 0., 0., 0., 0.],\n",
       "       [1., 0., 0., 0., 0., 0., 0.],\n",
       "       [0., 0., 0., 0., 0., 0., 0.],\n",
       "       [1., 0., 0., 0., 0., 0., 0.],\n",
       "       [0., 0., 0., 0., 0., 0., 0.],\n",
       "       [0., 0., 0., 0., 0., 0., 0.],\n",
       "       [0., 0., 0., 0., 0., 0., 0.],\n",
       "       [0., 0., 0., 0., 0., 0., 0.],\n",
       "       [0., 0., 0., 0., 0., 0., 0.],\n",
       "       [0., 0., 0., 0., 0., 0., 0.],\n",
       "       [1., 0., 0., 0., 0., 0., 0.],\n",
       "       [1., 0., 0., 0., 0., 0., 0.],\n",
       "       [1., 0., 0., 0., 0., 0., 0.],\n",
       "       [1., 0., 0., 0., 0., 0., 0.],\n",
       "       [1., 0., 0., 0., 0., 0., 0.],\n",
       "       [1., 0., 0., 0., 0., 0., 0.],\n",
       "       [0., 0., 0., 0., 0., 0., 0.],\n",
       "       [0., 0., 0., 0., 0., 0., 0.],\n",
       "       [0., 0., 0., 0., 0., 0., 0.],\n",
       "       [1., 0., 0., 0., 0., 0., 0.],\n",
       "       [1., 0., 0., 0., 0., 0., 0.],\n",
       "       [1., 0., 0., 0., 0., 0., 0.],\n",
       "       [0., 0., 0., 0., 0., 0., 0.],\n",
       "       [0., 0., 0., 0., 0., 0., 0.],\n",
       "       [0., 0., 0., 0., 0., 0., 0.],\n",
       "       [0., 0., 0., 0., 0., 0., 0.],\n",
       "       [0., 0., 0., 0., 0., 0., 0.],\n",
       "       [0., 0., 0., 0., 0., 0., 0.],\n",
       "       [0., 0., 0., 0., 0., 0., 0.],\n",
       "       [0., 0., 0., 0., 0., 0., 0.],\n",
       "       [1., 0., 0., 0., 0., 0., 0.],\n",
       "       [1., 0., 0., 0., 0., 0., 0.],\n",
       "       [0., 0., 0., 0., 0., 0., 0.],\n",
       "       [1., 0., 0., 0., 0., 0., 0.],\n",
       "       [1., 0., 0., 0., 0., 0., 0.],\n",
       "       [1., 0., 0., 0., 0., 0., 0.],\n",
       "       [1., 0., 0., 0., 0., 0., 0.],\n",
       "       [0., 0., 0., 0., 0., 0., 0.],\n",
       "       [1., 0., 0., 0., 0., 0., 0.],\n",
       "       [1., 0., 0., 0., 0., 0., 0.],\n",
       "       [1., 0., 0., 0., 0., 0., 0.],\n",
       "       [1., 0., 0., 0., 0., 0., 0.],\n",
       "       [1., 0., 0., 0., 0., 0., 0.],\n",
       "       [0., 0., 0., 0., 0., 0., 0.],\n",
       "       [1., 0., 0., 0., 0., 0., 0.],\n",
       "       [0., 0., 0., 0., 0., 0., 0.],\n",
       "       [0., 0., 0., 0., 0., 0., 0.],\n",
       "       [0., 0., 0., 0., 0., 0., 0.],\n",
       "       [0., 0., 0., 0., 0., 0., 0.],\n",
       "       [0., 0., 0., 0., 0., 0., 0.],\n",
       "       [1., 0., 0., 0., 0., 0., 0.],\n",
       "       [1., 0., 0., 0., 0., 0., 0.],\n",
       "       [1., 0., 0., 0., 0., 0., 0.],\n",
       "       [0., 0., 0., 0., 0., 0., 0.],\n",
       "       [0., 0., 0., 0., 0., 0., 0.],\n",
       "       [1., 0., 0., 0., 0., 0., 0.],\n",
       "       [1., 0., 0., 0., 0., 0., 0.],\n",
       "       [0., 0., 0., 0., 0., 0., 0.],\n",
       "       [1., 0., 0., 0., 0., 0., 0.],\n",
       "       [1., 0., 0., 0., 0., 0., 0.],\n",
       "       [1., 0., 0., 0., 0., 0., 0.],\n",
       "       [1., 0., 0., 0., 0., 0., 0.],\n",
       "       [1., 0., 0., 0., 0., 0., 0.],\n",
       "       [1., 0., 0., 0., 0., 0., 0.],\n",
       "       [1., 0., 0., 0., 0., 0., 0.],\n",
       "       [1., 0., 0., 0., 0., 0., 0.],\n",
       "       [1., 0., 0., 0., 0., 0., 0.],\n",
       "       [1., 0., 0., 0., 0., 0., 0.],\n",
       "       [1., 0., 0., 0., 0., 0., 0.],\n",
       "       [0., 0., 0., 0., 0., 0., 0.],\n",
       "       [1., 0., 0., 0., 0., 0., 0.],\n",
       "       [1., 0., 0., 0., 0., 0., 0.],\n",
       "       [1., 0., 0., 0., 0., 0., 0.],\n",
       "       [0., 0., 0., 0., 0., 0., 0.],\n",
       "       [0., 0., 0., 0., 0., 0., 0.],\n",
       "       [0., 0., 0., 0., 0., 0., 0.],\n",
       "       [1., 0., 0., 0., 0., 0., 0.],\n",
       "       [0., 0., 0., 0., 0., 0., 0.],\n",
       "       [0., 0., 0., 0., 0., 0., 0.],\n",
       "       [0., 0., 0., 0., 0., 0., 0.],\n",
       "       [1., 0., 0., 0., 0., 0., 0.],\n",
       "       [1., 0., 0., 0., 0., 0., 0.],\n",
       "       [1., 0., 0., 0., 0., 0., 0.],\n",
       "       [1., 0., 0., 0., 0., 0., 0.],\n",
       "       [1., 0., 0., 0., 0., 0., 0.],\n",
       "       [0., 0., 0., 0., 0., 0., 0.],\n",
       "       [1., 0., 0., 0., 0., 0., 0.],\n",
       "       [1., 0., 0., 0., 0., 0., 0.],\n",
       "       [1., 0., 0., 0., 0., 0., 0.],\n",
       "       [1., 0., 0., 0., 0., 0., 0.],\n",
       "       [0., 0., 0., 0., 0., 0., 0.],\n",
       "       [0., 0., 0., 0., 0., 0., 0.],\n",
       "       [0., 0., 0., 0., 0., 0., 0.],\n",
       "       [0., 0., 0., 0., 0., 0., 0.]])"
      ]
     },
     "execution_count": 35,
     "metadata": {},
     "output_type": "execute_result"
    }
   ],
   "source": [
    "behavioral"
   ]
  },
  {
   "cell_type": "code",
   "execution_count": 12,
   "metadata": {},
   "outputs": [],
   "source": [
    "is_good_channel = nix_data.segments[1].analogsignals[0].array_annotations['is_good_channel']\n",
    "is_false_positive = np.logical_not([nix_data.segments[i].annotations['false_pos'] for i in range (len(nix_data.segments))])\n",
    "\n",
    "\n",
    "data = data.isel(roi = is_good_channel, trials = is_false_positive)"
   ]
  },
  {
   "cell_type": "code",
   "execution_count": 13,
   "metadata": {},
   "outputs": [
    {
     "data": {
      "text/plain": [
       "(116, 3)"
      ]
     },
     "execution_count": 13,
     "metadata": {},
     "output_type": "execute_result"
    }
   ],
   "source": [
    "centroids.shape"
   ]
  },
  {
   "cell_type": "code",
   "execution_count": 14,
   "metadata": {},
   "outputs": [
    {
     "name": "stderr",
     "output_type": "stream",
     "text": [
      "Definition of an electrophysiological dataset\n",
      "    Dataset composed of 85 subjects / sessions\n",
      "    At least 2 subjects / roi required\n",
      "    Supported MI definition I(x; y (discret)) (cd)\n",
      "Gaussian Copula Mutual Information Estimator (mi_type=cc, copnorm=False, biascorrect=True, demeaned=False)\n",
      "Definition of a non-parametric statistical workflow\n",
      "Workflow for computing mutual information (inference=rfx, mi_type=cc, copnorm=True)\n",
      "    Evaluate true and permuted mi (n_perm=500, n_jobs=-1)\n",
      "/home/koehler/anaconda3/envs/andani_arm_movements/lib/python3.11/site-packages/tqdm/auto.py:21: TqdmWarning: IProgress not found. Please update jupyter and ipywidgets. See https://ipywidgets.readthedocs.io/en/stable/user_install.html\n",
      "  from .autonotebook import tqdm as notebook_tqdm\n",
      "100%|█████████████████████████| Estimating MI : 15/15 [10:05<00:00,   40.39s/it]\n",
      "    T-test across subjects (pop_mean=2.081488866460773e-06; center=False; zscore=False; sigma=0.001)\n",
      "    Inference at spatio-temporal level (test-wise)\n",
      "    Perform correction for MCP (mcp=fdr; tail=1)\n",
      "    Mean mi across subjects\n"
     ]
    }
   ],
   "source": [
    "ds = DatasetEphy( [data.isel(roi=[i]) for i in range(data.sizes[\"roi\"])] , y='trials', roi='roi', times='times', nb_min_suj=2)\n",
    "\n",
    "# \"\"\"\n",
    "# define the type of mutual information to compute\n",
    "# 'cd' = I(continuous; discret)\n",
    "#      = I(brain data; stimulus)\n",
    "# \"\"\"\n",
    "mi_type = 'cc'\n",
    "\n",
    "# define a workflow of mutual-information\n",
    "wf = WfMi(mi_type=mi_type, inference='rfx')\n",
    "\n",
    "# run the workflow (without stat for the moment)\n",
    "mi, pv = wf.fit(ds, mcp='fdr', n_perm = 500)"
   ]
  },
  {
   "cell_type": "code",
   "execution_count": 15,
   "metadata": {},
   "outputs": [
    {
     "data": {
      "text/html": [
       "<div><svg style=\"position: absolute; width: 0; height: 0; overflow: hidden\">\n",
       "<defs>\n",
       "<symbol id=\"icon-database\" viewBox=\"0 0 32 32\">\n",
       "<path d=\"M16 0c-8.837 0-16 2.239-16 5v4c0 2.761 7.163 5 16 5s16-2.239 16-5v-4c0-2.761-7.163-5-16-5z\"></path>\n",
       "<path d=\"M16 17c-8.837 0-16-2.239-16-5v6c0 2.761 7.163 5 16 5s16-2.239 16-5v-6c0 2.761-7.163 5-16 5z\"></path>\n",
       "<path d=\"M16 26c-8.837 0-16-2.239-16-5v6c0 2.761 7.163 5 16 5s16-2.239 16-5v-6c0 2.761-7.163 5-16 5z\"></path>\n",
       "</symbol>\n",
       "<symbol id=\"icon-file-text2\" viewBox=\"0 0 32 32\">\n",
       "<path d=\"M28.681 7.159c-0.694-0.947-1.662-2.053-2.724-3.116s-2.169-2.030-3.116-2.724c-1.612-1.182-2.393-1.319-2.841-1.319h-15.5c-1.378 0-2.5 1.121-2.5 2.5v27c0 1.378 1.122 2.5 2.5 2.5h23c1.378 0 2.5-1.122 2.5-2.5v-19.5c0-0.448-0.137-1.23-1.319-2.841zM24.543 5.457c0.959 0.959 1.712 1.825 2.268 2.543h-4.811v-4.811c0.718 0.556 1.584 1.309 2.543 2.268zM28 29.5c0 0.271-0.229 0.5-0.5 0.5h-23c-0.271 0-0.5-0.229-0.5-0.5v-27c0-0.271 0.229-0.5 0.5-0.5 0 0 15.499-0 15.5 0v7c0 0.552 0.448 1 1 1h7v19.5z\"></path>\n",
       "<path d=\"M23 26h-14c-0.552 0-1-0.448-1-1s0.448-1 1-1h14c0.552 0 1 0.448 1 1s-0.448 1-1 1z\"></path>\n",
       "<path d=\"M23 22h-14c-0.552 0-1-0.448-1-1s0.448-1 1-1h14c0.552 0 1 0.448 1 1s-0.448 1-1 1z\"></path>\n",
       "<path d=\"M23 18h-14c-0.552 0-1-0.448-1-1s0.448-1 1-1h14c0.552 0 1 0.448 1 1s-0.448 1-1 1z\"></path>\n",
       "</symbol>\n",
       "</defs>\n",
       "</svg>\n",
       "<style>/* CSS stylesheet for displaying xarray objects in jupyterlab.\n",
       " *\n",
       " */\n",
       "\n",
       ":root {\n",
       "  --xr-font-color0: var(--jp-content-font-color0, rgba(0, 0, 0, 1));\n",
       "  --xr-font-color2: var(--jp-content-font-color2, rgba(0, 0, 0, 0.54));\n",
       "  --xr-font-color3: var(--jp-content-font-color3, rgba(0, 0, 0, 0.38));\n",
       "  --xr-border-color: var(--jp-border-color2, #e0e0e0);\n",
       "  --xr-disabled-color: var(--jp-layout-color3, #bdbdbd);\n",
       "  --xr-background-color: var(--jp-layout-color0, white);\n",
       "  --xr-background-color-row-even: var(--jp-layout-color1, white);\n",
       "  --xr-background-color-row-odd: var(--jp-layout-color2, #eeeeee);\n",
       "}\n",
       "\n",
       "html[theme=dark],\n",
       "html[data-theme=dark],\n",
       "body[data-theme=dark],\n",
       "body.vscode-dark {\n",
       "  --xr-font-color0: rgba(255, 255, 255, 1);\n",
       "  --xr-font-color2: rgba(255, 255, 255, 0.54);\n",
       "  --xr-font-color3: rgba(255, 255, 255, 0.38);\n",
       "  --xr-border-color: #1F1F1F;\n",
       "  --xr-disabled-color: #515151;\n",
       "  --xr-background-color: #111111;\n",
       "  --xr-background-color-row-even: #111111;\n",
       "  --xr-background-color-row-odd: #313131;\n",
       "}\n",
       "\n",
       ".xr-wrap {\n",
       "  display: block !important;\n",
       "  min-width: 300px;\n",
       "  max-width: 700px;\n",
       "}\n",
       "\n",
       ".xr-text-repr-fallback {\n",
       "  /* fallback to plain text repr when CSS is not injected (untrusted notebook) */\n",
       "  display: none;\n",
       "}\n",
       "\n",
       ".xr-header {\n",
       "  padding-top: 6px;\n",
       "  padding-bottom: 6px;\n",
       "  margin-bottom: 4px;\n",
       "  border-bottom: solid 1px var(--xr-border-color);\n",
       "}\n",
       "\n",
       ".xr-header > div,\n",
       ".xr-header > ul {\n",
       "  display: inline;\n",
       "  margin-top: 0;\n",
       "  margin-bottom: 0;\n",
       "}\n",
       "\n",
       ".xr-obj-type,\n",
       ".xr-array-name {\n",
       "  margin-left: 2px;\n",
       "  margin-right: 10px;\n",
       "}\n",
       "\n",
       ".xr-obj-type {\n",
       "  color: var(--xr-font-color2);\n",
       "}\n",
       "\n",
       ".xr-sections {\n",
       "  padding-left: 0 !important;\n",
       "  display: grid;\n",
       "  grid-template-columns: 150px auto auto 1fr 0 20px 0 20px;\n",
       "}\n",
       "\n",
       ".xr-section-item {\n",
       "  display: contents;\n",
       "}\n",
       "\n",
       ".xr-section-item input {\n",
       "  display: inline-block;\n",
       "  opacity: 0;\n",
       "}\n",
       "\n",
       ".xr-section-item input + label {\n",
       "  color: var(--xr-disabled-color);\n",
       "}\n",
       "\n",
       ".xr-section-item input:enabled + label {\n",
       "  cursor: pointer;\n",
       "  color: var(--xr-font-color2);\n",
       "}\n",
       "\n",
       ".xr-section-item input:focus + label {\n",
       "  border: 2px solid var(--xr-font-color0);\n",
       "}\n",
       "\n",
       ".xr-section-item input:enabled + label:hover {\n",
       "  color: var(--xr-font-color0);\n",
       "}\n",
       "\n",
       ".xr-section-summary {\n",
       "  grid-column: 1;\n",
       "  color: var(--xr-font-color2);\n",
       "  font-weight: 500;\n",
       "}\n",
       "\n",
       ".xr-section-summary > span {\n",
       "  display: inline-block;\n",
       "  padding-left: 0.5em;\n",
       "}\n",
       "\n",
       ".xr-section-summary-in:disabled + label {\n",
       "  color: var(--xr-font-color2);\n",
       "}\n",
       "\n",
       ".xr-section-summary-in + label:before {\n",
       "  display: inline-block;\n",
       "  content: '►';\n",
       "  font-size: 11px;\n",
       "  width: 15px;\n",
       "  text-align: center;\n",
       "}\n",
       "\n",
       ".xr-section-summary-in:disabled + label:before {\n",
       "  color: var(--xr-disabled-color);\n",
       "}\n",
       "\n",
       ".xr-section-summary-in:checked + label:before {\n",
       "  content: '▼';\n",
       "}\n",
       "\n",
       ".xr-section-summary-in:checked + label > span {\n",
       "  display: none;\n",
       "}\n",
       "\n",
       ".xr-section-summary,\n",
       ".xr-section-inline-details {\n",
       "  padding-top: 4px;\n",
       "  padding-bottom: 4px;\n",
       "}\n",
       "\n",
       ".xr-section-inline-details {\n",
       "  grid-column: 2 / -1;\n",
       "}\n",
       "\n",
       ".xr-section-details {\n",
       "  display: none;\n",
       "  grid-column: 1 / -1;\n",
       "  margin-bottom: 5px;\n",
       "}\n",
       "\n",
       ".xr-section-summary-in:checked ~ .xr-section-details {\n",
       "  display: contents;\n",
       "}\n",
       "\n",
       ".xr-array-wrap {\n",
       "  grid-column: 1 / -1;\n",
       "  display: grid;\n",
       "  grid-template-columns: 20px auto;\n",
       "}\n",
       "\n",
       ".xr-array-wrap > label {\n",
       "  grid-column: 1;\n",
       "  vertical-align: top;\n",
       "}\n",
       "\n",
       ".xr-preview {\n",
       "  color: var(--xr-font-color3);\n",
       "}\n",
       "\n",
       ".xr-array-preview,\n",
       ".xr-array-data {\n",
       "  padding: 0 5px !important;\n",
       "  grid-column: 2;\n",
       "}\n",
       "\n",
       ".xr-array-data,\n",
       ".xr-array-in:checked ~ .xr-array-preview {\n",
       "  display: none;\n",
       "}\n",
       "\n",
       ".xr-array-in:checked ~ .xr-array-data,\n",
       ".xr-array-preview {\n",
       "  display: inline-block;\n",
       "}\n",
       "\n",
       ".xr-dim-list {\n",
       "  display: inline-block !important;\n",
       "  list-style: none;\n",
       "  padding: 0 !important;\n",
       "  margin: 0;\n",
       "}\n",
       "\n",
       ".xr-dim-list li {\n",
       "  display: inline-block;\n",
       "  padding: 0;\n",
       "  margin: 0;\n",
       "}\n",
       "\n",
       ".xr-dim-list:before {\n",
       "  content: '(';\n",
       "}\n",
       "\n",
       ".xr-dim-list:after {\n",
       "  content: ')';\n",
       "}\n",
       "\n",
       ".xr-dim-list li:not(:last-child):after {\n",
       "  content: ',';\n",
       "  padding-right: 5px;\n",
       "}\n",
       "\n",
       ".xr-has-index {\n",
       "  font-weight: bold;\n",
       "}\n",
       "\n",
       ".xr-var-list,\n",
       ".xr-var-item {\n",
       "  display: contents;\n",
       "}\n",
       "\n",
       ".xr-var-item > div,\n",
       ".xr-var-item label,\n",
       ".xr-var-item > .xr-var-name span {\n",
       "  background-color: var(--xr-background-color-row-even);\n",
       "  margin-bottom: 0;\n",
       "}\n",
       "\n",
       ".xr-var-item > .xr-var-name:hover span {\n",
       "  padding-right: 5px;\n",
       "}\n",
       "\n",
       ".xr-var-list > li:nth-child(odd) > div,\n",
       ".xr-var-list > li:nth-child(odd) > label,\n",
       ".xr-var-list > li:nth-child(odd) > .xr-var-name span {\n",
       "  background-color: var(--xr-background-color-row-odd);\n",
       "}\n",
       "\n",
       ".xr-var-name {\n",
       "  grid-column: 1;\n",
       "}\n",
       "\n",
       ".xr-var-dims {\n",
       "  grid-column: 2;\n",
       "}\n",
       "\n",
       ".xr-var-dtype {\n",
       "  grid-column: 3;\n",
       "  text-align: right;\n",
       "  color: var(--xr-font-color2);\n",
       "}\n",
       "\n",
       ".xr-var-preview {\n",
       "  grid-column: 4;\n",
       "}\n",
       "\n",
       ".xr-index-preview {\n",
       "  grid-column: 2 / 5;\n",
       "  color: var(--xr-font-color2);\n",
       "}\n",
       "\n",
       ".xr-var-name,\n",
       ".xr-var-dims,\n",
       ".xr-var-dtype,\n",
       ".xr-preview,\n",
       ".xr-attrs dt {\n",
       "  white-space: nowrap;\n",
       "  overflow: hidden;\n",
       "  text-overflow: ellipsis;\n",
       "  padding-right: 10px;\n",
       "}\n",
       "\n",
       ".xr-var-name:hover,\n",
       ".xr-var-dims:hover,\n",
       ".xr-var-dtype:hover,\n",
       ".xr-attrs dt:hover {\n",
       "  overflow: visible;\n",
       "  width: auto;\n",
       "  z-index: 1;\n",
       "}\n",
       "\n",
       ".xr-var-attrs,\n",
       ".xr-var-data,\n",
       ".xr-index-data {\n",
       "  display: none;\n",
       "  background-color: var(--xr-background-color) !important;\n",
       "  padding-bottom: 5px !important;\n",
       "}\n",
       "\n",
       ".xr-var-attrs-in:checked ~ .xr-var-attrs,\n",
       ".xr-var-data-in:checked ~ .xr-var-data,\n",
       ".xr-index-data-in:checked ~ .xr-index-data {\n",
       "  display: block;\n",
       "}\n",
       "\n",
       ".xr-var-data > table {\n",
       "  float: right;\n",
       "}\n",
       "\n",
       ".xr-var-name span,\n",
       ".xr-var-data,\n",
       ".xr-index-name div,\n",
       ".xr-index-data,\n",
       ".xr-attrs {\n",
       "  padding-left: 25px !important;\n",
       "}\n",
       "\n",
       ".xr-attrs,\n",
       ".xr-var-attrs,\n",
       ".xr-var-data,\n",
       ".xr-index-data {\n",
       "  grid-column: 1 / -1;\n",
       "}\n",
       "\n",
       "dl.xr-attrs {\n",
       "  padding: 0;\n",
       "  margin: 0;\n",
       "  display: grid;\n",
       "  grid-template-columns: 125px auto;\n",
       "}\n",
       "\n",
       ".xr-attrs dt,\n",
       ".xr-attrs dd {\n",
       "  padding: 0;\n",
       "  margin: 0;\n",
       "  float: left;\n",
       "  padding-right: 10px;\n",
       "  width: auto;\n",
       "}\n",
       "\n",
       ".xr-attrs dt {\n",
       "  font-weight: normal;\n",
       "  grid-column: 1;\n",
       "}\n",
       "\n",
       ".xr-attrs dt:hover span {\n",
       "  display: inline-block;\n",
       "  background: var(--xr-background-color);\n",
       "  padding-right: 10px;\n",
       "}\n",
       "\n",
       ".xr-attrs dd {\n",
       "  grid-column: 2;\n",
       "  white-space: pre-wrap;\n",
       "  word-break: break-all;\n",
       "}\n",
       "\n",
       ".xr-icon-database,\n",
       ".xr-icon-file-text2,\n",
       ".xr-no-icon {\n",
       "  display: inline-block;\n",
       "  vertical-align: middle;\n",
       "  width: 1em;\n",
       "  height: 1.5em !important;\n",
       "  stroke-width: 0;\n",
       "  stroke: currentColor;\n",
       "  fill: currentColor;\n",
       "}\n",
       "</style><pre class='xr-text-repr-fallback'>&lt;xarray.DataArray &#x27;tvalues&#x27; (times: 5501, roi: 15)&gt; Size: 330kB\n",
       "array([[-4.0781283e+00,  8.3168828e-01,  4.8227429e-01, ...,\n",
       "        -1.3845064e-01,  2.4694628e-01, -4.0030413e+00],\n",
       "       [-3.4267938e+00,  8.6472279e-01, -6.1216176e-01, ...,\n",
       "         4.7970694e-01, -6.0881797e-02, -4.4314346e+00],\n",
       "       [-1.5447198e+00,  7.4575549e-01, -1.9305575e+00, ...,\n",
       "         4.9598819e-01, -2.9085050e-03, -2.4147277e+00],\n",
       "       ...,\n",
       "       [ 5.2111936e-01, -1.2042004e+00,  2.2055209e+00, ...,\n",
       "        -3.6923060e+00, -2.7828500e+00, -3.0697162e+00],\n",
       "       [ 5.7041150e-01, -9.3716222e-01,  2.2730422e+00, ...,\n",
       "        -3.4599814e+00, -2.6519763e+00, -1.8342282e+00],\n",
       "       [ 4.2757395e-01, -1.0827053e+00,  8.9543700e-01, ...,\n",
       "        -2.8833907e+00, -1.4582002e+00, -3.6765728e-02]], dtype=float32)\n",
       "Coordinates:\n",
       "  * times    (times) float64 44kB -5.5 -5.498 -5.496 -5.494 ... 5.496 5.498 5.5\n",
       "  * roi      (roi) &lt;U19 1kB &#x27;Frontal_Mid_L&#x27; &#x27;Precentral_L&#x27; ... &#x27;Occipital_Inf_L&#x27;\n",
       "Attributes: (12/14)\n",
       "    mi_type:         cc\n",
       "    inference:       rfx\n",
       "    kernel:          None\n",
       "    ttest_pop_mean:  2.081488866460773e-06\n",
       "    ttest_sigma:     0.001\n",
       "    ttest_center:    0\n",
       "    ...              ...\n",
       "    cluster_th:      None\n",
       "    cluster_alpha:   0.05\n",
       "    ttested:         0\n",
       "    n_perm:          500\n",
       "    random_state:    None\n",
       "    type:            tvalues</pre><div class='xr-wrap' style='display:none'><div class='xr-header'><div class='xr-obj-type'>xarray.DataArray</div><div class='xr-array-name'>'tvalues'</div><ul class='xr-dim-list'><li><span class='xr-has-index'>times</span>: 5501</li><li><span class='xr-has-index'>roi</span>: 15</li></ul></div><ul class='xr-sections'><li class='xr-section-item'><div class='xr-array-wrap'><input id='section-236d3e85-4261-42d5-87be-e7a0e4811dd4' class='xr-array-in' type='checkbox' checked><label for='section-236d3e85-4261-42d5-87be-e7a0e4811dd4' title='Show/hide data repr'><svg class='icon xr-icon-database'><use xlink:href='#icon-database'></use></svg></label><div class='xr-array-preview xr-preview'><span>-4.078 0.8317 0.4823 0.9959 0.8817 ... -0.3928 -2.883 -1.458 -0.03677</span></div><div class='xr-array-data'><pre>array([[-4.0781283e+00,  8.3168828e-01,  4.8227429e-01, ...,\n",
       "        -1.3845064e-01,  2.4694628e-01, -4.0030413e+00],\n",
       "       [-3.4267938e+00,  8.6472279e-01, -6.1216176e-01, ...,\n",
       "         4.7970694e-01, -6.0881797e-02, -4.4314346e+00],\n",
       "       [-1.5447198e+00,  7.4575549e-01, -1.9305575e+00, ...,\n",
       "         4.9598819e-01, -2.9085050e-03, -2.4147277e+00],\n",
       "       ...,\n",
       "       [ 5.2111936e-01, -1.2042004e+00,  2.2055209e+00, ...,\n",
       "        -3.6923060e+00, -2.7828500e+00, -3.0697162e+00],\n",
       "       [ 5.7041150e-01, -9.3716222e-01,  2.2730422e+00, ...,\n",
       "        -3.4599814e+00, -2.6519763e+00, -1.8342282e+00],\n",
       "       [ 4.2757395e-01, -1.0827053e+00,  8.9543700e-01, ...,\n",
       "        -2.8833907e+00, -1.4582002e+00, -3.6765728e-02]], dtype=float32)</pre></div></div></li><li class='xr-section-item'><input id='section-23716338-1cf0-48bc-9e29-46581598d6dd' class='xr-section-summary-in' type='checkbox'  checked><label for='section-23716338-1cf0-48bc-9e29-46581598d6dd' class='xr-section-summary' >Coordinates: <span>(2)</span></label><div class='xr-section-inline-details'></div><div class='xr-section-details'><ul class='xr-var-list'><li class='xr-var-item'><div class='xr-var-name'><span class='xr-has-index'>times</span></div><div class='xr-var-dims'>(times)</div><div class='xr-var-dtype'>float64</div><div class='xr-var-preview xr-preview'>-5.5 -5.498 -5.496 ... 5.498 5.5</div><input id='attrs-a3d3763f-d436-4fd3-af90-7fc9f5b4b5f1' class='xr-var-attrs-in' type='checkbox' disabled><label for='attrs-a3d3763f-d436-4fd3-af90-7fc9f5b4b5f1' title='Show/Hide attributes'><svg class='icon xr-icon-file-text2'><use xlink:href='#icon-file-text2'></use></svg></label><input id='data-71383472-74e3-41ab-bb72-205908a1cbf5' class='xr-var-data-in' type='checkbox'><label for='data-71383472-74e3-41ab-bb72-205908a1cbf5' title='Show/Hide data repr'><svg class='icon xr-icon-database'><use xlink:href='#icon-database'></use></svg></label><div class='xr-var-attrs'><dl class='xr-attrs'></dl></div><div class='xr-var-data'><pre>array([-5.5  , -5.498, -5.496, ...,  5.496,  5.498,  5.5  ])</pre></div></li><li class='xr-var-item'><div class='xr-var-name'><span class='xr-has-index'>roi</span></div><div class='xr-var-dims'>(roi)</div><div class='xr-var-dtype'>&lt;U19</div><div class='xr-var-preview xr-preview'>&#x27;Frontal_Mid_L&#x27; ... &#x27;Occipital_I...</div><input id='attrs-2a60b48d-b32e-40e8-9556-f8a08c349402' class='xr-var-attrs-in' type='checkbox' disabled><label for='attrs-2a60b48d-b32e-40e8-9556-f8a08c349402' title='Show/Hide attributes'><svg class='icon xr-icon-file-text2'><use xlink:href='#icon-file-text2'></use></svg></label><input id='data-c7195dbc-a89f-4c14-a543-f8d1f34fe88e' class='xr-var-data-in' type='checkbox'><label for='data-c7195dbc-a89f-4c14-a543-f8d1f34fe88e' title='Show/Hide data repr'><svg class='icon xr-icon-database'><use xlink:href='#icon-database'></use></svg></label><div class='xr-var-attrs'><dl class='xr-attrs'></dl></div><div class='xr-var-data'><pre>array([&#x27;Frontal_Mid_L&#x27;, &#x27;Precentral_L&#x27;, &#x27;Postcentral_L&#x27;, &#x27;Frontal_Inf_Tri_L&#x27;,\n",
       "       &#x27;Frontal_Inf_Oper_L&#x27;, &#x27;SupraMarginal_L&#x27;, &#x27;Temporal_Pole_Sup_L&#x27;,\n",
       "       &#x27;Insula_L&#x27;, &#x27;Temporal_Sup_L&#x27;, &#x27;Temporal_Mid_L&#x27;, &#x27;Temporal_Pole_Mid_L&#x27;,\n",
       "       &#x27;Temporal_Inf_L&#x27;, &#x27;Fusiform_L&#x27;, &#x27;Cerebelum_6_L&#x27;, &#x27;Occipital_Inf_L&#x27;],\n",
       "      dtype=&#x27;&lt;U19&#x27;)</pre></div></li></ul></div></li><li class='xr-section-item'><input id='section-271e21b1-beef-44bf-bfa2-211280250a5c' class='xr-section-summary-in' type='checkbox'  ><label for='section-271e21b1-beef-44bf-bfa2-211280250a5c' class='xr-section-summary' >Indexes: <span>(2)</span></label><div class='xr-section-inline-details'></div><div class='xr-section-details'><ul class='xr-var-list'><li class='xr-var-item'><div class='xr-index-name'><div>times</div></div><div class='xr-index-preview'>PandasIndex</div><div></div><input id='index-557f16d2-46d3-402b-b669-14fa95b79c7a' class='xr-index-data-in' type='checkbox'/><label for='index-557f16d2-46d3-402b-b669-14fa95b79c7a' title='Show/Hide index repr'><svg class='icon xr-icon-database'><use xlink:href='#icon-database'></use></svg></label><div class='xr-index-data'><pre>PandasIndex(Index([              -5.5,             -5.498,             -5.496,\n",
       "                   -5.494,             -5.492,              -5.49,\n",
       "                   -5.488,             -5.486,             -5.484,\n",
       "                   -5.482,\n",
       "       ...\n",
       "        5.481999999999999,              5.484,  5.486000000000001,\n",
       "       5.4879999999999995,               5.49,  5.492000000000001,\n",
       "                    5.494,              5.496,  5.497999999999999,\n",
       "                      5.5],\n",
       "      dtype=&#x27;float64&#x27;, name=&#x27;times&#x27;, length=5501))</pre></div></li><li class='xr-var-item'><div class='xr-index-name'><div>roi</div></div><div class='xr-index-preview'>PandasIndex</div><div></div><input id='index-0effef3b-71a1-4145-a6a9-4e6645ad6246' class='xr-index-data-in' type='checkbox'/><label for='index-0effef3b-71a1-4145-a6a9-4e6645ad6246' title='Show/Hide index repr'><svg class='icon xr-icon-database'><use xlink:href='#icon-database'></use></svg></label><div class='xr-index-data'><pre>PandasIndex(Index([&#x27;Frontal_Mid_L&#x27;, &#x27;Precentral_L&#x27;, &#x27;Postcentral_L&#x27;, &#x27;Frontal_Inf_Tri_L&#x27;,\n",
       "       &#x27;Frontal_Inf_Oper_L&#x27;, &#x27;SupraMarginal_L&#x27;, &#x27;Temporal_Pole_Sup_L&#x27;,\n",
       "       &#x27;Insula_L&#x27;, &#x27;Temporal_Sup_L&#x27;, &#x27;Temporal_Mid_L&#x27;, &#x27;Temporal_Pole_Mid_L&#x27;,\n",
       "       &#x27;Temporal_Inf_L&#x27;, &#x27;Fusiform_L&#x27;, &#x27;Cerebelum_6_L&#x27;, &#x27;Occipital_Inf_L&#x27;],\n",
       "      dtype=&#x27;object&#x27;, name=&#x27;roi&#x27;))</pre></div></li></ul></div></li><li class='xr-section-item'><input id='section-1ec151f3-9f33-45c2-845b-42d2584e16ee' class='xr-section-summary-in' type='checkbox'  ><label for='section-1ec151f3-9f33-45c2-845b-42d2584e16ee' class='xr-section-summary' >Attributes: <span>(14)</span></label><div class='xr-section-inline-details'></div><div class='xr-section-details'><dl class='xr-attrs'><dt><span>mi_type :</span></dt><dd>cc</dd><dt><span>inference :</span></dt><dd>rfx</dd><dt><span>kernel :</span></dt><dd>None</dd><dt><span>ttest_pop_mean :</span></dt><dd>2.081488866460773e-06</dd><dt><span>ttest_sigma :</span></dt><dd>0.001</dd><dt><span>ttest_center :</span></dt><dd>0</dd><dt><span>mcp :</span></dt><dd>fdr</dd><dt><span>tail :</span></dt><dd>1</dd><dt><span>cluster_th :</span></dt><dd>None</dd><dt><span>cluster_alpha :</span></dt><dd>0.05</dd><dt><span>ttested :</span></dt><dd>0</dd><dt><span>n_perm :</span></dt><dd>500</dd><dt><span>random_state :</span></dt><dd>None</dd><dt><span>type :</span></dt><dd>tvalues</dd></dl></div></li></ul></div></div>"
      ],
      "text/plain": [
       "<xarray.DataArray 'tvalues' (times: 5501, roi: 15)> Size: 330kB\n",
       "array([[-4.0781283e+00,  8.3168828e-01,  4.8227429e-01, ...,\n",
       "        -1.3845064e-01,  2.4694628e-01, -4.0030413e+00],\n",
       "       [-3.4267938e+00,  8.6472279e-01, -6.1216176e-01, ...,\n",
       "         4.7970694e-01, -6.0881797e-02, -4.4314346e+00],\n",
       "       [-1.5447198e+00,  7.4575549e-01, -1.9305575e+00, ...,\n",
       "         4.9598819e-01, -2.9085050e-03, -2.4147277e+00],\n",
       "       ...,\n",
       "       [ 5.2111936e-01, -1.2042004e+00,  2.2055209e+00, ...,\n",
       "        -3.6923060e+00, -2.7828500e+00, -3.0697162e+00],\n",
       "       [ 5.7041150e-01, -9.3716222e-01,  2.2730422e+00, ...,\n",
       "        -3.4599814e+00, -2.6519763e+00, -1.8342282e+00],\n",
       "       [ 4.2757395e-01, -1.0827053e+00,  8.9543700e-01, ...,\n",
       "        -2.8833907e+00, -1.4582002e+00, -3.6765728e-02]], dtype=float32)\n",
       "Coordinates:\n",
       "  * times    (times) float64 44kB -5.5 -5.498 -5.496 -5.494 ... 5.496 5.498 5.5\n",
       "  * roi      (roi) <U19 1kB 'Frontal_Mid_L' 'Precentral_L' ... 'Occipital_Inf_L'\n",
       "Attributes: (12/14)\n",
       "    mi_type:         cc\n",
       "    inference:       rfx\n",
       "    kernel:          None\n",
       "    ttest_pop_mean:  2.081488866460773e-06\n",
       "    ttest_sigma:     0.001\n",
       "    ttest_center:    0\n",
       "    ...              ...\n",
       "    cluster_th:      None\n",
       "    cluster_alpha:   0.05\n",
       "    ttested:         0\n",
       "    n_perm:          500\n",
       "    random_state:    None\n",
       "    type:            tvalues"
      ]
     },
     "execution_count": 15,
     "metadata": {},
     "output_type": "execute_result"
    }
   ],
   "source": [
    "wf.tvalues"
   ]
  },
  {
   "cell_type": "code",
   "execution_count": 16,
   "metadata": {},
   "outputs": [],
   "source": [
    "mi_corr = mi * (pv <= .01)"
   ]
  },
  {
   "cell_type": "code",
   "execution_count": 17,
   "metadata": {},
   "outputs": [
    {
     "data": {
      "text/html": [
       "<div><svg style=\"position: absolute; width: 0; height: 0; overflow: hidden\">\n",
       "<defs>\n",
       "<symbol id=\"icon-database\" viewBox=\"0 0 32 32\">\n",
       "<path d=\"M16 0c-8.837 0-16 2.239-16 5v4c0 2.761 7.163 5 16 5s16-2.239 16-5v-4c0-2.761-7.163-5-16-5z\"></path>\n",
       "<path d=\"M16 17c-8.837 0-16-2.239-16-5v6c0 2.761 7.163 5 16 5s16-2.239 16-5v-6c0 2.761-7.163 5-16 5z\"></path>\n",
       "<path d=\"M16 26c-8.837 0-16-2.239-16-5v6c0 2.761 7.163 5 16 5s16-2.239 16-5v-6c0 2.761-7.163 5-16 5z\"></path>\n",
       "</symbol>\n",
       "<symbol id=\"icon-file-text2\" viewBox=\"0 0 32 32\">\n",
       "<path d=\"M28.681 7.159c-0.694-0.947-1.662-2.053-2.724-3.116s-2.169-2.030-3.116-2.724c-1.612-1.182-2.393-1.319-2.841-1.319h-15.5c-1.378 0-2.5 1.121-2.5 2.5v27c0 1.378 1.122 2.5 2.5 2.5h23c1.378 0 2.5-1.122 2.5-2.5v-19.5c0-0.448-0.137-1.23-1.319-2.841zM24.543 5.457c0.959 0.959 1.712 1.825 2.268 2.543h-4.811v-4.811c0.718 0.556 1.584 1.309 2.543 2.268zM28 29.5c0 0.271-0.229 0.5-0.5 0.5h-23c-0.271 0-0.5-0.229-0.5-0.5v-27c0-0.271 0.229-0.5 0.5-0.5 0 0 15.499-0 15.5 0v7c0 0.552 0.448 1 1 1h7v19.5z\"></path>\n",
       "<path d=\"M23 26h-14c-0.552 0-1-0.448-1-1s0.448-1 1-1h14c0.552 0 1 0.448 1 1s-0.448 1-1 1z\"></path>\n",
       "<path d=\"M23 22h-14c-0.552 0-1-0.448-1-1s0.448-1 1-1h14c0.552 0 1 0.448 1 1s-0.448 1-1 1z\"></path>\n",
       "<path d=\"M23 18h-14c-0.552 0-1-0.448-1-1s0.448-1 1-1h14c0.552 0 1 0.448 1 1s-0.448 1-1 1z\"></path>\n",
       "</symbol>\n",
       "</defs>\n",
       "</svg>\n",
       "<style>/* CSS stylesheet for displaying xarray objects in jupyterlab.\n",
       " *\n",
       " */\n",
       "\n",
       ":root {\n",
       "  --xr-font-color0: var(--jp-content-font-color0, rgba(0, 0, 0, 1));\n",
       "  --xr-font-color2: var(--jp-content-font-color2, rgba(0, 0, 0, 0.54));\n",
       "  --xr-font-color3: var(--jp-content-font-color3, rgba(0, 0, 0, 0.38));\n",
       "  --xr-border-color: var(--jp-border-color2, #e0e0e0);\n",
       "  --xr-disabled-color: var(--jp-layout-color3, #bdbdbd);\n",
       "  --xr-background-color: var(--jp-layout-color0, white);\n",
       "  --xr-background-color-row-even: var(--jp-layout-color1, white);\n",
       "  --xr-background-color-row-odd: var(--jp-layout-color2, #eeeeee);\n",
       "}\n",
       "\n",
       "html[theme=dark],\n",
       "html[data-theme=dark],\n",
       "body[data-theme=dark],\n",
       "body.vscode-dark {\n",
       "  --xr-font-color0: rgba(255, 255, 255, 1);\n",
       "  --xr-font-color2: rgba(255, 255, 255, 0.54);\n",
       "  --xr-font-color3: rgba(255, 255, 255, 0.38);\n",
       "  --xr-border-color: #1F1F1F;\n",
       "  --xr-disabled-color: #515151;\n",
       "  --xr-background-color: #111111;\n",
       "  --xr-background-color-row-even: #111111;\n",
       "  --xr-background-color-row-odd: #313131;\n",
       "}\n",
       "\n",
       ".xr-wrap {\n",
       "  display: block !important;\n",
       "  min-width: 300px;\n",
       "  max-width: 700px;\n",
       "}\n",
       "\n",
       ".xr-text-repr-fallback {\n",
       "  /* fallback to plain text repr when CSS is not injected (untrusted notebook) */\n",
       "  display: none;\n",
       "}\n",
       "\n",
       ".xr-header {\n",
       "  padding-top: 6px;\n",
       "  padding-bottom: 6px;\n",
       "  margin-bottom: 4px;\n",
       "  border-bottom: solid 1px var(--xr-border-color);\n",
       "}\n",
       "\n",
       ".xr-header > div,\n",
       ".xr-header > ul {\n",
       "  display: inline;\n",
       "  margin-top: 0;\n",
       "  margin-bottom: 0;\n",
       "}\n",
       "\n",
       ".xr-obj-type,\n",
       ".xr-array-name {\n",
       "  margin-left: 2px;\n",
       "  margin-right: 10px;\n",
       "}\n",
       "\n",
       ".xr-obj-type {\n",
       "  color: var(--xr-font-color2);\n",
       "}\n",
       "\n",
       ".xr-sections {\n",
       "  padding-left: 0 !important;\n",
       "  display: grid;\n",
       "  grid-template-columns: 150px auto auto 1fr 0 20px 0 20px;\n",
       "}\n",
       "\n",
       ".xr-section-item {\n",
       "  display: contents;\n",
       "}\n",
       "\n",
       ".xr-section-item input {\n",
       "  display: inline-block;\n",
       "  opacity: 0;\n",
       "}\n",
       "\n",
       ".xr-section-item input + label {\n",
       "  color: var(--xr-disabled-color);\n",
       "}\n",
       "\n",
       ".xr-section-item input:enabled + label {\n",
       "  cursor: pointer;\n",
       "  color: var(--xr-font-color2);\n",
       "}\n",
       "\n",
       ".xr-section-item input:focus + label {\n",
       "  border: 2px solid var(--xr-font-color0);\n",
       "}\n",
       "\n",
       ".xr-section-item input:enabled + label:hover {\n",
       "  color: var(--xr-font-color0);\n",
       "}\n",
       "\n",
       ".xr-section-summary {\n",
       "  grid-column: 1;\n",
       "  color: var(--xr-font-color2);\n",
       "  font-weight: 500;\n",
       "}\n",
       "\n",
       ".xr-section-summary > span {\n",
       "  display: inline-block;\n",
       "  padding-left: 0.5em;\n",
       "}\n",
       "\n",
       ".xr-section-summary-in:disabled + label {\n",
       "  color: var(--xr-font-color2);\n",
       "}\n",
       "\n",
       ".xr-section-summary-in + label:before {\n",
       "  display: inline-block;\n",
       "  content: '►';\n",
       "  font-size: 11px;\n",
       "  width: 15px;\n",
       "  text-align: center;\n",
       "}\n",
       "\n",
       ".xr-section-summary-in:disabled + label:before {\n",
       "  color: var(--xr-disabled-color);\n",
       "}\n",
       "\n",
       ".xr-section-summary-in:checked + label:before {\n",
       "  content: '▼';\n",
       "}\n",
       "\n",
       ".xr-section-summary-in:checked + label > span {\n",
       "  display: none;\n",
       "}\n",
       "\n",
       ".xr-section-summary,\n",
       ".xr-section-inline-details {\n",
       "  padding-top: 4px;\n",
       "  padding-bottom: 4px;\n",
       "}\n",
       "\n",
       ".xr-section-inline-details {\n",
       "  grid-column: 2 / -1;\n",
       "}\n",
       "\n",
       ".xr-section-details {\n",
       "  display: none;\n",
       "  grid-column: 1 / -1;\n",
       "  margin-bottom: 5px;\n",
       "}\n",
       "\n",
       ".xr-section-summary-in:checked ~ .xr-section-details {\n",
       "  display: contents;\n",
       "}\n",
       "\n",
       ".xr-array-wrap {\n",
       "  grid-column: 1 / -1;\n",
       "  display: grid;\n",
       "  grid-template-columns: 20px auto;\n",
       "}\n",
       "\n",
       ".xr-array-wrap > label {\n",
       "  grid-column: 1;\n",
       "  vertical-align: top;\n",
       "}\n",
       "\n",
       ".xr-preview {\n",
       "  color: var(--xr-font-color3);\n",
       "}\n",
       "\n",
       ".xr-array-preview,\n",
       ".xr-array-data {\n",
       "  padding: 0 5px !important;\n",
       "  grid-column: 2;\n",
       "}\n",
       "\n",
       ".xr-array-data,\n",
       ".xr-array-in:checked ~ .xr-array-preview {\n",
       "  display: none;\n",
       "}\n",
       "\n",
       ".xr-array-in:checked ~ .xr-array-data,\n",
       ".xr-array-preview {\n",
       "  display: inline-block;\n",
       "}\n",
       "\n",
       ".xr-dim-list {\n",
       "  display: inline-block !important;\n",
       "  list-style: none;\n",
       "  padding: 0 !important;\n",
       "  margin: 0;\n",
       "}\n",
       "\n",
       ".xr-dim-list li {\n",
       "  display: inline-block;\n",
       "  padding: 0;\n",
       "  margin: 0;\n",
       "}\n",
       "\n",
       ".xr-dim-list:before {\n",
       "  content: '(';\n",
       "}\n",
       "\n",
       ".xr-dim-list:after {\n",
       "  content: ')';\n",
       "}\n",
       "\n",
       ".xr-dim-list li:not(:last-child):after {\n",
       "  content: ',';\n",
       "  padding-right: 5px;\n",
       "}\n",
       "\n",
       ".xr-has-index {\n",
       "  font-weight: bold;\n",
       "}\n",
       "\n",
       ".xr-var-list,\n",
       ".xr-var-item {\n",
       "  display: contents;\n",
       "}\n",
       "\n",
       ".xr-var-item > div,\n",
       ".xr-var-item label,\n",
       ".xr-var-item > .xr-var-name span {\n",
       "  background-color: var(--xr-background-color-row-even);\n",
       "  margin-bottom: 0;\n",
       "}\n",
       "\n",
       ".xr-var-item > .xr-var-name:hover span {\n",
       "  padding-right: 5px;\n",
       "}\n",
       "\n",
       ".xr-var-list > li:nth-child(odd) > div,\n",
       ".xr-var-list > li:nth-child(odd) > label,\n",
       ".xr-var-list > li:nth-child(odd) > .xr-var-name span {\n",
       "  background-color: var(--xr-background-color-row-odd);\n",
       "}\n",
       "\n",
       ".xr-var-name {\n",
       "  grid-column: 1;\n",
       "}\n",
       "\n",
       ".xr-var-dims {\n",
       "  grid-column: 2;\n",
       "}\n",
       "\n",
       ".xr-var-dtype {\n",
       "  grid-column: 3;\n",
       "  text-align: right;\n",
       "  color: var(--xr-font-color2);\n",
       "}\n",
       "\n",
       ".xr-var-preview {\n",
       "  grid-column: 4;\n",
       "}\n",
       "\n",
       ".xr-index-preview {\n",
       "  grid-column: 2 / 5;\n",
       "  color: var(--xr-font-color2);\n",
       "}\n",
       "\n",
       ".xr-var-name,\n",
       ".xr-var-dims,\n",
       ".xr-var-dtype,\n",
       ".xr-preview,\n",
       ".xr-attrs dt {\n",
       "  white-space: nowrap;\n",
       "  overflow: hidden;\n",
       "  text-overflow: ellipsis;\n",
       "  padding-right: 10px;\n",
       "}\n",
       "\n",
       ".xr-var-name:hover,\n",
       ".xr-var-dims:hover,\n",
       ".xr-var-dtype:hover,\n",
       ".xr-attrs dt:hover {\n",
       "  overflow: visible;\n",
       "  width: auto;\n",
       "  z-index: 1;\n",
       "}\n",
       "\n",
       ".xr-var-attrs,\n",
       ".xr-var-data,\n",
       ".xr-index-data {\n",
       "  display: none;\n",
       "  background-color: var(--xr-background-color) !important;\n",
       "  padding-bottom: 5px !important;\n",
       "}\n",
       "\n",
       ".xr-var-attrs-in:checked ~ .xr-var-attrs,\n",
       ".xr-var-data-in:checked ~ .xr-var-data,\n",
       ".xr-index-data-in:checked ~ .xr-index-data {\n",
       "  display: block;\n",
       "}\n",
       "\n",
       ".xr-var-data > table {\n",
       "  float: right;\n",
       "}\n",
       "\n",
       ".xr-var-name span,\n",
       ".xr-var-data,\n",
       ".xr-index-name div,\n",
       ".xr-index-data,\n",
       ".xr-attrs {\n",
       "  padding-left: 25px !important;\n",
       "}\n",
       "\n",
       ".xr-attrs,\n",
       ".xr-var-attrs,\n",
       ".xr-var-data,\n",
       ".xr-index-data {\n",
       "  grid-column: 1 / -1;\n",
       "}\n",
       "\n",
       "dl.xr-attrs {\n",
       "  padding: 0;\n",
       "  margin: 0;\n",
       "  display: grid;\n",
       "  grid-template-columns: 125px auto;\n",
       "}\n",
       "\n",
       ".xr-attrs dt,\n",
       ".xr-attrs dd {\n",
       "  padding: 0;\n",
       "  margin: 0;\n",
       "  float: left;\n",
       "  padding-right: 10px;\n",
       "  width: auto;\n",
       "}\n",
       "\n",
       ".xr-attrs dt {\n",
       "  font-weight: normal;\n",
       "  grid-column: 1;\n",
       "}\n",
       "\n",
       ".xr-attrs dt:hover span {\n",
       "  display: inline-block;\n",
       "  background: var(--xr-background-color);\n",
       "  padding-right: 10px;\n",
       "}\n",
       "\n",
       ".xr-attrs dd {\n",
       "  grid-column: 2;\n",
       "  white-space: pre-wrap;\n",
       "  word-break: break-all;\n",
       "}\n",
       "\n",
       ".xr-icon-database,\n",
       ".xr-icon-file-text2,\n",
       ".xr-no-icon {\n",
       "  display: inline-block;\n",
       "  vertical-align: middle;\n",
       "  width: 1em;\n",
       "  height: 1.5em !important;\n",
       "  stroke-width: 0;\n",
       "  stroke: currentColor;\n",
       "  fill: currentColor;\n",
       "}\n",
       "</style><pre class='xr-text-repr-fallback'>&lt;xarray.DataArray (roi: 15)&gt; Size: 15B\n",
       "array([ True,  True,  True,  True,  True,  True,  True,  True,  True,\n",
       "        True,  True,  True,  True,  True,  True])\n",
       "Coordinates:\n",
       "  * roi      (roi) &lt;U19 1kB &#x27;Frontal_Mid_L&#x27; &#x27;Precentral_L&#x27; ... &#x27;Occipital_Inf_L&#x27;</pre><div class='xr-wrap' style='display:none'><div class='xr-header'><div class='xr-obj-type'>xarray.DataArray</div><div class='xr-array-name'></div><ul class='xr-dim-list'><li><span class='xr-has-index'>roi</span>: 15</li></ul></div><ul class='xr-sections'><li class='xr-section-item'><div class='xr-array-wrap'><input id='section-1baca958-c1a5-456d-aea7-b2df6c4b5bc1' class='xr-array-in' type='checkbox' checked><label for='section-1baca958-c1a5-456d-aea7-b2df6c4b5bc1' title='Show/hide data repr'><svg class='icon xr-icon-database'><use xlink:href='#icon-database'></use></svg></label><div class='xr-array-preview xr-preview'><span>True True True True True True True ... True True True True True True</span></div><div class='xr-array-data'><pre>array([ True,  True,  True,  True,  True,  True,  True,  True,  True,\n",
       "        True,  True,  True,  True,  True,  True])</pre></div></div></li><li class='xr-section-item'><input id='section-bfadd545-e1df-4eeb-9600-806746d0a885' class='xr-section-summary-in' type='checkbox'  checked><label for='section-bfadd545-e1df-4eeb-9600-806746d0a885' class='xr-section-summary' >Coordinates: <span>(1)</span></label><div class='xr-section-inline-details'></div><div class='xr-section-details'><ul class='xr-var-list'><li class='xr-var-item'><div class='xr-var-name'><span class='xr-has-index'>roi</span></div><div class='xr-var-dims'>(roi)</div><div class='xr-var-dtype'>&lt;U19</div><div class='xr-var-preview xr-preview'>&#x27;Frontal_Mid_L&#x27; ... &#x27;Occipital_I...</div><input id='attrs-3df74d51-8f86-4507-a4a2-74cd9eb482b7' class='xr-var-attrs-in' type='checkbox' disabled><label for='attrs-3df74d51-8f86-4507-a4a2-74cd9eb482b7' title='Show/Hide attributes'><svg class='icon xr-icon-file-text2'><use xlink:href='#icon-file-text2'></use></svg></label><input id='data-c1e0d4ef-3be7-4e3d-ae1c-66a499341984' class='xr-var-data-in' type='checkbox'><label for='data-c1e0d4ef-3be7-4e3d-ae1c-66a499341984' title='Show/Hide data repr'><svg class='icon xr-icon-database'><use xlink:href='#icon-database'></use></svg></label><div class='xr-var-attrs'><dl class='xr-attrs'></dl></div><div class='xr-var-data'><pre>array([&#x27;Frontal_Mid_L&#x27;, &#x27;Precentral_L&#x27;, &#x27;Postcentral_L&#x27;, &#x27;Frontal_Inf_Tri_L&#x27;,\n",
       "       &#x27;Frontal_Inf_Oper_L&#x27;, &#x27;SupraMarginal_L&#x27;, &#x27;Temporal_Pole_Sup_L&#x27;,\n",
       "       &#x27;Insula_L&#x27;, &#x27;Temporal_Sup_L&#x27;, &#x27;Temporal_Mid_L&#x27;, &#x27;Temporal_Pole_Mid_L&#x27;,\n",
       "       &#x27;Temporal_Inf_L&#x27;, &#x27;Fusiform_L&#x27;, &#x27;Cerebelum_6_L&#x27;, &#x27;Occipital_Inf_L&#x27;],\n",
       "      dtype=&#x27;&lt;U19&#x27;)</pre></div></li></ul></div></li><li class='xr-section-item'><input id='section-d3a60c29-418f-4ea1-b144-77a4e7cab832' class='xr-section-summary-in' type='checkbox'  ><label for='section-d3a60c29-418f-4ea1-b144-77a4e7cab832' class='xr-section-summary' >Indexes: <span>(1)</span></label><div class='xr-section-inline-details'></div><div class='xr-section-details'><ul class='xr-var-list'><li class='xr-var-item'><div class='xr-index-name'><div>roi</div></div><div class='xr-index-preview'>PandasIndex</div><div></div><input id='index-b06141f3-1f7c-4b1a-90c0-f02a4daea833' class='xr-index-data-in' type='checkbox'/><label for='index-b06141f3-1f7c-4b1a-90c0-f02a4daea833' title='Show/Hide index repr'><svg class='icon xr-icon-database'><use xlink:href='#icon-database'></use></svg></label><div class='xr-index-data'><pre>PandasIndex(Index([&#x27;Frontal_Mid_L&#x27;, &#x27;Precentral_L&#x27;, &#x27;Postcentral_L&#x27;, &#x27;Frontal_Inf_Tri_L&#x27;,\n",
       "       &#x27;Frontal_Inf_Oper_L&#x27;, &#x27;SupraMarginal_L&#x27;, &#x27;Temporal_Pole_Sup_L&#x27;,\n",
       "       &#x27;Insula_L&#x27;, &#x27;Temporal_Sup_L&#x27;, &#x27;Temporal_Mid_L&#x27;, &#x27;Temporal_Pole_Mid_L&#x27;,\n",
       "       &#x27;Temporal_Inf_L&#x27;, &#x27;Fusiform_L&#x27;, &#x27;Cerebelum_6_L&#x27;, &#x27;Occipital_Inf_L&#x27;],\n",
       "      dtype=&#x27;object&#x27;, name=&#x27;roi&#x27;))</pre></div></li></ul></div></li><li class='xr-section-item'><input id='section-18f9fc80-a533-4779-89f3-84230655976c' class='xr-section-summary-in' type='checkbox' disabled ><label for='section-18f9fc80-a533-4779-89f3-84230655976c' class='xr-section-summary'  title='Expand/collapse section'>Attributes: <span>(0)</span></label><div class='xr-section-inline-details'></div><div class='xr-section-details'><dl class='xr-attrs'></dl></div></li></ul></div></div>"
      ],
      "text/plain": [
       "<xarray.DataArray (roi: 15)> Size: 15B\n",
       "array([ True,  True,  True,  True,  True,  True,  True,  True,  True,\n",
       "        True,  True,  True,  True,  True,  True])\n",
       "Coordinates:\n",
       "  * roi      (roi) <U19 1kB 'Frontal_Mid_L' 'Precentral_L' ... 'Occipital_Inf_L'"
      ]
     },
     "execution_count": 17,
     "metadata": {},
     "output_type": "execute_result"
    }
   ],
   "source": [
    "(mi_corr > 0).any(\"times\")"
   ]
  },
  {
   "cell_type": "code",
   "execution_count": 18,
   "metadata": {},
   "outputs": [
    {
     "data": {
      "image/png": "[encoded data removed]",
      "text/plain": [
       "<Figure size 640x480 with 2 Axes>"
      ]
     },
     "metadata": {},
     "output_type": "display_data"
    }
   ],
   "source": [
    "mi_corr.plot(x=\"times\", y=\"roi\", cmap=\"turbo\");\n",
    "# plt.xlim(4, 5)"
   ]
  },
  {
   "cell_type": "code",
   "execution_count": 19,
   "metadata": {},
   "outputs": [],
   "source": [
    "mi_corr.to_netcdf('subject1_mi.nc')"
   ]
  },
  {
   "cell_type": "code",
   "execution_count": 21,
   "metadata": {},
   "outputs": [],
   "source": [
    "(wf.tvalues * (pv <= .01)).to_netcdf('subject1_tvalues.nc')"
   ]
  },
  {
   "cell_type": "code",
   "execution_count": 263,
   "metadata": {},
   "outputs": [],
   "source": [
    "from spectral import conn_spec_average\n",
    "from surrogates import trial_swap_surrogates"
   ]
  },
  {
   "cell_type": "code",
   "execution_count": 258,
   "metadata": {},
   "outputs": [],
   "source": [
    "data_conn = data.groupby(\"roi\").mean(\"roi\")"
   ]
  },
  {
   "cell_type": "code",
   "execution_count": 272,
   "metadata": {},
   "outputs": [],
   "source": [
    "data_conn_surr = [trial_swap_surrogates(data_conn) for i in range(10)]"
   ]
  },
  {
   "cell_type": "code",
   "execution_count": 259,
   "metadata": {},
   "outputs": [
    {
     "name": "stderr",
     "output_type": "stream",
     "text": [
      "\u001b[1m\u001b[1;33mWARNING\u001b[0m | No time vector. A default one is created\n",
      "Defining links (n_roi=21; directed=False; net=False, nb_min_links=None)\n",
      "    Sorting roi names\n",
      "Computing pairwise coh (n_pairs=210, decim=1\n"
     ]
    },
    {
     "name": "stdout",
     "output_type": "stream",
     "text": [
      "    Using multitaper spectrum estimation with 31 DPSS windows\n"
     ]
    },
    {
     "name": "stderr",
     "output_type": "stream",
     "text": [
      "100%|████████████████████████████████████|  : 210/210 [00:03<00:00,   56.45it/s]\n"
     ]
    }
   ],
   "source": [
    "coh = conn_spec_average(data_conn, 3, 60, roi=\"roi\", sfreq=500, bandwidth=3)"
   ]
  },
  {
   "cell_type": "code",
   "execution_count": 273,
   "metadata": {},
   "outputs": [
    {
     "name": "stderr",
     "output_type": "stream",
     "text": [
      "\u001b[1m\u001b[1;33mWARNING\u001b[0m | No time vector. A default one is created\n",
      "Defining links (n_roi=21; directed=False; net=False, nb_min_links=None)\n",
      "    Sorting roi names\n",
      "Computing pairwise coh (n_pairs=210, decim=1\n"
     ]
    },
    {
     "name": "stdout",
     "output_type": "stream",
     "text": [
      "    Using multitaper spectrum estimation with 31 DPSS windows\n"
     ]
    },
    {
     "name": "stderr",
     "output_type": "stream",
     "text": [
      "100%|████████████████████████████████████|  : 210/210 [00:02<00:00,   70.35it/s]\n",
      "\u001b[1m\u001b[1;33mWARNING\u001b[0m | No time vector. A default one is created\n",
      "Defining links (n_roi=21; directed=False; net=False, nb_min_links=None)\n",
      "    Sorting roi names\n",
      "Computing pairwise coh (n_pairs=210, decim=1\n"
     ]
    },
    {
     "name": "stdout",
     "output_type": "stream",
     "text": [
      "    Using multitaper spectrum estimation with 31 DPSS windows\n"
     ]
    },
    {
     "name": "stderr",
     "output_type": "stream",
     "text": [
      "100%|████████████████████████████████████|  : 210/210 [00:03<00:00,   61.99it/s]\n",
      "\u001b[1m\u001b[1;33mWARNING\u001b[0m | No time vector. A default one is created\n",
      "Defining links (n_roi=21; directed=False; net=False, nb_min_links=None)\n",
      "    Sorting roi names\n",
      "Computing pairwise coh (n_pairs=210, decim=1\n"
     ]
    },
    {
     "name": "stdout",
     "output_type": "stream",
     "text": [
      "    Using multitaper spectrum estimation with 31 DPSS windows\n"
     ]
    },
    {
     "name": "stderr",
     "output_type": "stream",
     "text": [
      "100%|████████████████████████████████████|  : 210/210 [00:02<00:00,   79.65it/s]\n",
      "\u001b[1m\u001b[1;33mWARNING\u001b[0m | No time vector. A default one is created\n",
      "Defining links (n_roi=21; directed=False; net=False, nb_min_links=None)\n",
      "    Sorting roi names\n",
      "Computing pairwise coh (n_pairs=210, decim=1\n"
     ]
    },
    {
     "name": "stdout",
     "output_type": "stream",
     "text": [
      "    Using multitaper spectrum estimation with 31 DPSS windows\n"
     ]
    },
    {
     "name": "stderr",
     "output_type": "stream",
     "text": [
      "100%|████████████████████████████████████|  : 210/210 [00:03<00:00,   54.25it/s]\n",
      "\u001b[1m\u001b[1;33mWARNING\u001b[0m | No time vector. A default one is created\n",
      "Defining links (n_roi=21; directed=False; net=False, nb_min_links=None)\n",
      "    Sorting roi names\n",
      "Computing pairwise coh (n_pairs=210, decim=1\n"
     ]
    },
    {
     "name": "stdout",
     "output_type": "stream",
     "text": [
      "    Using multitaper spectrum estimation with 31 DPSS windows\n"
     ]
    },
    {
     "name": "stderr",
     "output_type": "stream",
     "text": [
      "100%|████████████████████████████████████|  : 210/210 [00:02<00:00,   72.01it/s]\n",
      "\u001b[1m\u001b[1;33mWARNING\u001b[0m | No time vector. A default one is created\n",
      "Defining links (n_roi=21; directed=False; net=False, nb_min_links=None)\n",
      "    Sorting roi names\n",
      "Computing pairwise coh (n_pairs=210, decim=1\n"
     ]
    },
    {
     "name": "stdout",
     "output_type": "stream",
     "text": [
      "    Using multitaper spectrum estimation with 31 DPSS windows\n"
     ]
    },
    {
     "name": "stderr",
     "output_type": "stream",
     "text": [
      "100%|████████████████████████████████████|  : 210/210 [00:02<00:00,   73.19it/s]\n",
      "\u001b[1m\u001b[1;33mWARNING\u001b[0m | No time vector. A default one is created\n",
      "Defining links (n_roi=21; directed=False; net=False, nb_min_links=None)\n",
      "    Sorting roi names\n",
      "Computing pairwise coh (n_pairs=210, decim=1\n"
     ]
    },
    {
     "name": "stdout",
     "output_type": "stream",
     "text": [
      "    Using multitaper spectrum estimation with 31 DPSS windows\n"
     ]
    },
    {
     "name": "stderr",
     "output_type": "stream",
     "text": [
      "100%|████████████████████████████████████|  : 210/210 [00:02<00:00,   75.78it/s]\n",
      "\u001b[1m\u001b[1;33mWARNING\u001b[0m | No time vector. A default one is created\n",
      "Defining links (n_roi=21; directed=False; net=False, nb_min_links=None)\n",
      "    Sorting roi names\n",
      "Computing pairwise coh (n_pairs=210, decim=1\n"
     ]
    },
    {
     "name": "stdout",
     "output_type": "stream",
     "text": [
      "    Using multitaper spectrum estimation with 31 DPSS windows\n"
     ]
    },
    {
     "name": "stderr",
     "output_type": "stream",
     "text": [
      "100%|████████████████████████████████████|  : 210/210 [00:02<00:00,   71.79it/s]\n",
      "\u001b[1m\u001b[1;33mWARNING\u001b[0m | No time vector. A default one is created\n",
      "Defining links (n_roi=21; directed=False; net=False, nb_min_links=None)\n",
      "    Sorting roi names\n",
      "Computing pairwise coh (n_pairs=210, decim=1\n"
     ]
    },
    {
     "name": "stdout",
     "output_type": "stream",
     "text": [
      "    Using multitaper spectrum estimation with 31 DPSS windows\n"
     ]
    },
    {
     "name": "stderr",
     "output_type": "stream",
     "text": [
      "100%|████████████████████████████████████|  : 210/210 [00:03<00:00,   62.81it/s]\n",
      "\u001b[1m\u001b[1;33mWARNING\u001b[0m | No time vector. A default one is created\n",
      "Defining links (n_roi=21; directed=False; net=False, nb_min_links=None)\n",
      "    Sorting roi names\n",
      "Computing pairwise coh (n_pairs=210, decim=1\n"
     ]
    },
    {
     "name": "stdout",
     "output_type": "stream",
     "text": [
      "    Using multitaper spectrum estimation with 31 DPSS windows\n"
     ]
    },
    {
     "name": "stderr",
     "output_type": "stream",
     "text": [
      "100%|████████████████████████████████████|  : 210/210 [00:02<00:00,   80.00it/s]\n"
     ]
    }
   ],
   "source": [
    "coh_sur = [conn_spec_average(_data_conn_surr, 3, 60, roi=\"roi\", sfreq=500, bandwidth=3, n_jobs=4) for _data_conn_surr in data_conn_surr]"
   ]
  },
  {
   "cell_type": "code",
   "execution_count": 294,
   "metadata": {},
   "outputs": [],
   "source": [
    "coh_surr_thr = xr.concat(coh_sur, \"surr\").quantile(.95, \"surr\")"
   ]
  },
  {
   "cell_type": "code",
   "execution_count": 295,
   "metadata": {},
   "outputs": [],
   "source": [
    "from frites.conn.conn_utils import conn_reshape_undirected\n",
    "from frites.plot import plot_conn_circle, plot_conn_heatmap"
   ]
  },
  {
   "cell_type": "code",
   "execution_count": 296,
   "metadata": {},
   "outputs": [
    {
     "name": "stderr",
     "output_type": "stream",
     "text": [
      "/home/koehler/anaconda3/envs/andani_arm_movements/lib/python3.11/site-packages/frites/conn/conn_utils.py:520: FutureWarning: the `pandas.MultiIndex` object(s) passed as 'roi' coordinate(s) or data variable(s) will no longer be implicitly promoted and wrapped into multiple indexed coordinates in the future (i.e., one coordinate for each multi-index level + one dimension coordinate). If you want to keep this behavior, you need to first wrap it explicitly using `mindex_coords = xarray.Coordinates.from_pandas_multiindex(mindex_obj, 'dim')` and pass it as coordinates, e.g., `xarray.Dataset(coords=mindex_coords)`, `dataset.assign_coords(mindex_coords)` or `dataarray.assign_coords(mindex_coords)`.\n",
      "  da[axis] = pd.MultiIndex.from_arrays(\n"
     ]
    }
   ],
   "source": [
    "A = conn_reshape_undirected(np.clip(coh - coh_surr_thr, 0, 1), fill_diagonal=0, fill_value=0).sel(freqs=slice(15, 20)).mean(\"freqs\")"
   ]
  },
  {
   "cell_type": "code",
   "execution_count": 297,
   "metadata": {},
   "outputs": [
    {
     "data": {
      "text/plain": [
       "<Axes: >"
      ]
     },
     "execution_count": 297,
     "metadata": {},
     "output_type": "execute_result"
    },
    {
     "data": {
      "image/png": "[encoded data removed]",
      "text/plain": [
       "<Figure size 1600x1200 with 2 Axes>"
      ]
     },
     "metadata": {},
     "output_type": "display_data"
    }
   ],
   "source": [
    "plot_conn_heatmap(A, cmap=\"hot_r\", vmin=0, vmax=.2)"
   ]
  },
  {
   "cell_type": "code",
   "execution_count": 337,
   "metadata": {},
   "outputs": [],
   "source": [
    "from frites.core import gccmi_nd_ccc, gccmi_1d_ccc, gcmi_1d_cc"
   ]
  },
  {
   "cell_type": "code",
   "execution_count": 331,
   "metadata": {},
   "outputs": [],
   "source": [
    "x = data_conn[:, 20]\n",
    "y = data_conn[:, 10]\n",
    "z = data_conn.trials.values"
   ]
  },
  {
   "cell_type": "code",
   "execution_count": null,
   "metadata": {},
   "outputs": [],
   "source": [
    "gccmi_1d_ccc(x.values.T, y.values.T, z, biascorrect=False)"
   ]
  }
 ],
 "metadata": {
  "kernelspec": {
   "display_name": "Python 3 (ipykernel)",
   "language": "python",
   "name": "python3"
  },
  "language_info": {
   "codemirror_mode": {
    "name": "ipython",
    "version": 3
   },
   "file_extension": ".py",
   "mimetype": "text/x-python",
   "name": "python",
   "nbconvert_exporter": "python",
   "pygments_lexer": "ipython3",
   "version": "3.11.10"
  }
 },
 "nbformat": 4,
 "nbformat_minor": 4
}
