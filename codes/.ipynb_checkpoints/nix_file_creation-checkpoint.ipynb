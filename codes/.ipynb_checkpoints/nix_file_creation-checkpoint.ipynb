{
 "cells": [
  {
   "cell_type": "markdown",
   "metadata": {},
   "source": [
    "# **Creation of NIX file**"
   ]
  },
  {
   "cell_type": "markdown",
   "metadata": {},
   "source": [
    "Import Libraries"
   ]
  },
  {
   "cell_type": "code",
   "execution_count": 7,
   "metadata": {},
   "outputs": [],
   "source": [
    "import mne\n",
    "import numpy as np\n",
    "import pandas as pd\n",
    "import neo\n",
    "import nixio\n",
    "import quantities as pq\n",
    "from quantities.unitquantity import UnitQuantity"
   ]
  },
  {
   "cell_type": "markdown",
   "metadata": {},
   "source": [
    "Import Data"
   ]
  },
  {
   "cell_type": "code",
   "execution_count": 8,
   "metadata": {},
   "outputs": [
    {
     "name": "stdout",
     "output_type": "stream",
     "text": [
      "Reading c:\\Users\\yoshu\\OneDrive\\Documentos\\ANDA_NI_Dataset\\naturalistic_arm_movements\\codes\\..\\data\\fif_files\\subj_01_day_3_r_epo.fif ...\n",
      "    Found the data of interest:\n",
      "        t =   -5500.00 ...    5500.00 ms\n",
      "        0 CTF compensation matrices available\n",
      "Adding metadata with 21 columns\n",
      "156 matching events found\n",
      "No baseline correction applied\n",
      "0 projection items activated\n",
      "Loading data for 156 events and 5501 original time points ...\n"
     ]
    }
   ],
   "source": [
    "path_fif = '../data/fif_files/'\n",
    "path_nix = '../data/nix_files/'\n",
    "dataset_file = 'subj_01_day_3_r_epo'        \n",
    "\n",
    "data = mne.read_epochs(path_fif + dataset_file + '.fif', preload=False)\n",
    "epochs = data.get_data()     # Epochs x Channels x Time Points\n",
    "times = data.times\n",
    "no_channels = data.info['nchan']\n",
    "bad_channels = data.info['bads']\n",
    "ch_names = data.ch_names\n",
    "\n",
    "is_good_channel = []\n",
    "for ch_name in ch_names:\n",
    "    if ch_name in bad_channels:\n",
    "        is_good_channel.append(False)\n",
    "    else:\n",
    "        is_good_channel.append(True)\n",
    "\n",
    "sfreq = data.info['sfreq']\n",
    "metadata = data.metadata\n",
    "\n",
    "r_wrist_prev = metadata[['r_wrist_x' , 'r_wrist_y']]\n",
    "l_wrist_prev = metadata[['l_wrist_x' , 'l_wrist_y']]\n",
    "\n",
    "r_wrist = np.zeros((156, 2, 150))\n",
    "for i in range(156):\n",
    "    r_wrist_x = np.array(r_wrist_prev.to_numpy()[i][0])\n",
    "    r_wrist_y = np.array(r_wrist_prev.to_numpy()[i][1])\n",
    "    r_wrist2 = np.vstack([r_wrist_x, r_wrist_y])\n",
    "    r_wrist[i] = r_wrist2\n",
    "\n",
    "l_wrist = np.zeros((156, 2, 150))\n",
    "for i in range(156):\n",
    "    l_wrist_x = np.array(l_wrist_prev.to_numpy()[i][0])\n",
    "    l_wrist_y = np.array(l_wrist_prev.to_numpy()[i][1])\n",
    "    l_wrist2 = np.vstack([l_wrist_x, l_wrist_y])\n",
    "    l_wrist[i] = l_wrist2\n",
    "\n",
    "metadata = metadata.drop(columns=['r_wrist_x','r_wrist_y','l_wrist_x','l_wrist_y'])\n",
    "\n",
    "chanlocs = []\n",
    "for i in range(no_channels):\n",
    "    chan = data.info['chs'][i]['loc'][:3]\n",
    "    chanlocs.append(chan)\n",
    "\n",
    "chanlocs = np.array(chanlocs)"
   ]
  },
  {
   "cell_type": "markdown",
   "metadata": {},
   "source": [
    "NEO Structure"
   ]
  },
  {
   "cell_type": "code",
   "execution_count": 9,
   "metadata": {},
   "outputs": [],
   "source": [
    "px = pq.UnitQuantity('px', pq.dimensionless, symbol='px')\n",
    "fps = pq.UnitQuantity('fps', pq.Hz, symbol='fps')\n",
    "block = neo.Block(name='Naturalistic Arm Movements')\n",
    "block.annotate(subject = 'Subject 01')\n",
    "block.annotate(day = 'Day 3')\n",
    "block.annotate(no_channels = no_channels)\n",
    "block.annotate(ch_names = ch_names)\n",
    "\n",
    "for i, epoch in enumerate(epochs):\n",
    "    segment = neo.Segment(name=f'Epoch_{i}')\n",
    "    segment.annotate(time                   = metadata['time'][i])              \n",
    "    segment.annotate(event_timestamp        = metadata['event_timestamp'][i])\n",
    "    segment.annotate(mvmt                   = metadata['mvmt'][i])\n",
    "    segment.annotate(vid_name               = metadata['vid_name'][i])\n",
    "    segment.annotate(event_frame_idx        = metadata['event_frame_idx'][i])\n",
    "    segment.annotate(false_pos              = metadata['false_pos'][i])\n",
    "    segment.annotate(patient_id             = metadata['patient_id'][i])\n",
    "    segment.annotate(I_over_C_ratio         = metadata['I_over_C_ratio'][i])\n",
    "    segment.annotate(audio_ratio            = metadata['audio_ratio'][i])\n",
    "    segment.annotate(reach_duration         = metadata['reach_duration'][i])\n",
    "    segment.annotate(reach_r                = metadata['reach_r'][i])\n",
    "    segment.annotate(reach_a                = metadata['reach_a'][i])\n",
    "    segment.annotate(onset_velocity         = metadata['onset_velocity'][i])\n",
    "    segment.annotate(other_reach_overlap    = metadata['other_reach_overlap'][i])\n",
    "    segment.annotate(bimanual               = metadata['bimanual'][i])\n",
    "    segment.annotate(other_lead_lag         = metadata['other_lead_lag'][i])\n",
    "\n",
    "    asig1 = neo.AnalogSignal(signal = epoch.T,\n",
    "                            units = pq.uV,\n",
    "                            sampling_rate = sfreq*pq.Hz)\n",
    "    asig1.array_annotate(is_good_channel = is_good_channel)\n",
    "    asig1.array_annotate(chanlocs_x = chanlocs[:,0])\n",
    "    asig1.array_annotate(chanlocs_y = chanlocs[:,1])\n",
    "    asig1.array_annotate(chanlocs_z = chanlocs[:,2])\n",
    "    \n",
    "    asig2 = neo.AnalogSignal(signal = r_wrist[i].T,\n",
    "                             units = px,\n",
    "                             sampling_rate = 30*fps)\n",
    "    asig2.array_annotate(ch_names = ['x','y'])\n",
    "\n",
    "    asig3 = neo.AnalogSignal(signal = l_wrist[i].T,\n",
    "                             units = px,\n",
    "                             sampling_rate = 30*fps)\n",
    "    asig3.array_annotate(ch_names = ['x','y'])\n",
    "\n",
    "    segment.analogsignals.append(asig1)\n",
    "    segment.analogsignals.append(asig2)\n",
    "    segment.analogsignals.append(asig3)\n",
    "    block.segments.append(segment)"
   ]
  },
  {
   "cell_type": "markdown",
   "metadata": {},
   "source": [
    "Save NIX File"
   ]
  },
  {
   "cell_type": "code",
   "execution_count": 10,
   "metadata": {},
   "outputs": [],
   "source": [
    "with neo.io.NixIO(path_nix + dataset_file + '.nix', 'ow') as io:   \n",
    "    io.write_block(block)"
   ]
  }
 ],
 "metadata": {
  "kernelspec": {
   "display_name": "base",
   "language": "python",
   "name": "python3"
  },
  "language_info": {
   "codemirror_mode": {
    "name": "ipython",
    "version": 3
   },
   "file_extension": ".py",
   "mimetype": "text/x-python",
   "name": "python",
   "nbconvert_exporter": "python",
   "pygments_lexer": "ipython3",
   "version": "3.12.4"
  }
 },
 "nbformat": 4,
 "nbformat_minor": 2
}
